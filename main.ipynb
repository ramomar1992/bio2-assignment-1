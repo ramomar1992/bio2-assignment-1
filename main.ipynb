{
 "cells": [
  {
   "cell_type": "code",
   "execution_count": 5,
   "metadata": {},
   "outputs": [],
   "source": [
    "!pip install pysam\n",
    "import pysam as ps"
   ]
  },
  {
   "cell_type": "code",
   "execution_count": 12,
   "metadata": {},
   "outputs": [],
   "source": [
    "bamfile = ps.AlignmentFile('./allignment/sorted_bam.bam', 'rb', index_filename = './allignment/sorted_indexed.bam.bai')"
   ]
  },
  {
   "cell_type": "code",
   "execution_count": 51,
   "metadata": {},
   "outputs": [],
   "source": [
    "with ps.AlignmentFile('./created_bam/0ver_30_quality_mapping.bam', \"wb\", template=bamfile) as outf:\n",
    "  for iter in bamfile.fetch():\n",
    "    if iter.mapping_quality >= 30:\n",
    "      outf.write(iter)\n"
   ]
  },
  {
   "cell_type": "code",
   "execution_count": null,
   "metadata": {},
   "outputs": [],
   "source": [
    "import os\n",
    "import sys\n",
    "\n",
    "os.system(\"samtools index ./created_bam/0ver_30_quality_mapping.bam ./created_bam/0ver_30_quality_mapping.bam.bai\")"
   ]
  },
  {
   "cell_type": "code",
   "execution_count": 55,
   "metadata": {},
   "outputs": [],
   "source": [
    "bamfile2 = ps.AlignmentFile('./created_bam/0ver_30_quality_mapping.bam', 'rb', index_filename = './created_bam/0ver_30_quality_mapping.bam.bai')"
   ]
  },
  {
   "cell_type": "code",
   "execution_count": 57,
   "metadata": {},
   "outputs": [],
   "source": [
    "for iter in bamfile2.fetch():\n",
    "  print(iter)"
   ]
  }
 ],
 "metadata": {
  "interpreter": {
   "hash": "b0fa6594d8f4cbf19f97940f81e996739fb7646882a419484c72d19e05852a7e"
  },
  "kernelspec": {
   "display_name": "Python 3.9.10 64-bit",
   "language": "python",
   "name": "python3"
  },
  "language_info": {
   "codemirror_mode": {
    "name": "ipython",
    "version": 3
   },
   "file_extension": ".py",
   "mimetype": "text/x-python",
   "name": "python",
   "nbconvert_exporter": "python",
   "pygments_lexer": "ipython3",
   "version": "3.9.12"
  },
  "orig_nbformat": 4
 },
 "nbformat": 4,
 "nbformat_minor": 2
}
